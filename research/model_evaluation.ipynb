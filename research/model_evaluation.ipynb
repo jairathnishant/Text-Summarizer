{
 "cells": [
  {
   "cell_type": "code",
   "execution_count": 1,
   "id": "9a2890df",
   "metadata": {},
   "outputs": [
    {
     "data": {
      "text/plain": [
       "'C:\\\\Users\\\\91996\\\\Text-Summarizer'"
      ]
     },
     "execution_count": 1,
     "metadata": {},
     "output_type": "execute_result"
    }
   ],
   "source": [
    "import os\n",
    "os.chdir(r'C:\\Users\\91996\\Text-Summarizer')\n",
    "%pwd"
   ]
  },
  {
   "cell_type": "code",
   "execution_count": 2,
   "id": "673078ee",
   "metadata": {},
   "outputs": [],
   "source": [
    "from dataclasses import dataclass\n",
    "from pathlib import Path\n",
    "\n",
    "@dataclass(frozen = True)\n",
    "class ModelEvaluationConfig:\n",
    "    root_dir: Path\n",
    "    data_path: Path\n",
    "    model_path: Path\n",
    "    tokenizer_path: Path\n",
    "    metric_file_name: Path"
   ]
  },
  {
   "cell_type": "code",
   "execution_count": 3,
   "id": "f51d6c22",
   "metadata": {},
   "outputs": [],
   "source": [
    "from textSummarizer.constants import *\n",
    "from textSummarizer.utils.common import read_yaml, create_directories"
   ]
  },
  {
   "cell_type": "code",
   "execution_count": 4,
   "id": "cdbac030",
   "metadata": {},
   "outputs": [],
   "source": [
    "class ConfigurationManager:\n",
    "    def __init__(\n",
    "        self,\n",
    "        config_filepath = CONFIG_FILE_PATH,\n",
    "        params_filepath = PARAMS_FILE_PATH):\n",
    "\n",
    "        self.config = read_yaml(config_filepath)\n",
    "        self.params = read_yaml(params_filepath)\n",
    "\n",
    "        create_directories([self.config.artifacts_root])\n",
    "\n",
    "    def get_model_evaluation_config(self)-> ModelEvaluationConfig:\n",
    "        config = self.config.model_evaluation\n",
    "\n",
    "        create_directories([config.root_dir])\n",
    "\n",
    "        model_evaluation_config = ModelEvaluationConfig(\n",
    "            root_dir = config.root_dir,\n",
    "            data_path = config.data_path,\n",
    "            model_path = config.model_path,\n",
    "            tokenizer_path = config.tokenizer_path,\n",
    "            metric_file_name = config.metric_file_name\n",
    "        )\n",
    "\n",
    "        return model_evaluation_config"
   ]
  },
  {
   "cell_type": "code",
   "execution_count": 5,
   "id": "c450e3e1",
   "metadata": {},
   "outputs": [
    {
     "name": "stderr",
     "output_type": "stream",
     "text": [
      "c:\\Users\\91996\\anaconda3\\envs\\textSummarizer\\lib\\site-packages\\tqdm\\auto.py:21: TqdmWarning: IProgress not found. Please update jupyter and ipywidgets. See https://ipywidgets.readthedocs.io/en/stable/user_install.html\n",
      "  from .autonotebook import tqdm as notebook_tqdm\n"
     ]
    },
    {
     "name": "stdout",
     "output_type": "stream",
     "text": [
      "[2025-04-14 11:29:09,186: INFO: config: PyTorch version 2.6.0 available.]\n"
     ]
    }
   ],
   "source": [
    "from transformers import AutoModelForSeq2SeqLM, AutoTokenizer\n",
    "from datasets import load_dataset, load_from_disk\n",
    "import evaluate\n",
    "import torch\n",
    "import pandas as pd\n",
    "from tqdm import tqdm"
   ]
  },
  {
   "cell_type": "code",
   "execution_count": 13,
   "id": "7d89bfc3",
   "metadata": {},
   "outputs": [],
   "source": [
    "class ModelEvaluation:\n",
    "    def __init__(self, config: ModelEvaluationConfig):\n",
    "        self.config = config\n",
    "\n",
    "    def generate_batch_sized_chunks(self,list_of_elements, batch_size):\n",
    "        \"\"\"split the ddata dataset into smaller batches\n",
    "        to process in parallel. Yield successive batch-sized chunks from list_of_elements\"\"\"\n",
    "        for i in range(0, len(list_of_elements), batch_size):\n",
    "            yield list_of_elements[i: i+batch_size]\n",
    "\n",
    "    def calculate_metric_on_test_ds(self, dataset, metric, model, tokenizer, \n",
    "                                    batch_size = 8, device = 'cuda' if torch.cuda.is_available() else 'cpu',\n",
    "                                    column_text = 'article',\n",
    "                                     column_summary = 'highlights'):\n",
    "        article_batches = list(self.generate_batch_sized_chunks(dataset[column_text], batch_size))\n",
    "        target_batches = list(self.generate_batch_sized_chunks(dataset[column_summary], batch_size))\n",
    "\n",
    "        for article_batch, target_batch in tqdm(\n",
    "            zip(article_batches, target_batches), total = len(article_batches)\n",
    "        ):\n",
    "            inputs = tokenizer(article_batch, max_length=1024,\n",
    "                               truncation = True, padding = \"max_length\",\n",
    "                               return_tensors = 'pt')\n",
    "            \n",
    "            summaries = model.generate(input_ids=inputs[\"input_ids\"].to(device),\n",
    "                                       attention_mask = inputs[\"attention_mask\"].to(device),\n",
    "                                       length_penalty = 0.8, num_beams = 8, max_length = 128)\n",
    "            \n",
    "            '''parameter for length penalty ensures that model does not generate sequence that are too long'''\n",
    "\n",
    "            decoded_summaries = [tokenizer.decode(s, skip_special_tokens=True,\n",
    "                                                  clean_up_tokenization_spaces = True)\n",
    "                                                  for s in summaries]\n",
    "            \n",
    "            decoded_summaries = [f.replace(\"\", \" \") for f in decoded_summaries]\n",
    "\n",
    "            metric.add_batch(predictions = decoded_summaries, references = target_batch)\n",
    "\n",
    "        score = metric.compute()\n",
    "        return score\n",
    "    \n",
    "    def evaluate(self):\n",
    "        tokenizer_path = self.config.tokenizer_path\n",
    "        print(f\"Attempting to load tokenizer from: {tokenizer_path}\")\n",
    "        print(f\"Path exists: {os.path.exists(tokenizer_path)}\")\n",
    "        print(f\"Path contents: {os.listdir(tokenizer_path)}\")\n",
    "        device = 'cuda' if torch.cuda.is_available() else 'cpu'\n",
    "        tokenizer = AutoTokenizer.from_pretrained(self.config.tokenizer_path,local_files_only=True)\n",
    "        model_pegasus = AutoModelForSeq2SeqLM.from_pretrained(self.config.model_path, local_files_only=True).to(device)\n",
    "\n",
    "        dataset_samsum_pt = load_from_disk(self.config.data_path)\n",
    "\n",
    "        rouge_names = [\"rouge1\", \"rougeL\"]\n",
    "\n",
    "        rouge_metric = evaluate.load('rouge')\n",
    "\n",
    "        # Debug: Print column names to verify\n",
    "        test_dataset = dataset_samsum_pt['test']\n",
    "        print(f\"Available columns in dataset: {test_dataset.column_names}\")\n",
    "        \n",
    "        score = self.calculate_metric_on_test_ds(\n",
    "            dataset_samsum_pt['test'][0:10],\n",
    "            rouge_metric, model_pegasus, tokenizer,\n",
    "            batch_size = 2, column_text= 'dialogue', column_summary = 'summary'\n",
    "        )\n",
    "        rouge_dict = dict((rn, score[rn]) for rn in rouge_names)\n",
    "\n",
    "        df = pd.DataFrame(rouge_dict, index = ['pegasus'])\n",
    "        df.to_csv(self.config.metric_file_name, index = False)\n"
   ]
  },
  {
   "cell_type": "code",
   "execution_count": 7,
   "id": "4ee98d83",
   "metadata": {},
   "outputs": [],
   "source": [
    "\n",
    "\n",
    "# Then try loading\n",
    "# tokenizer = AutoTokenizer.from_pretrained(tokenizer_path, local_files_only=True)"
   ]
  },
  {
   "cell_type": "code",
   "execution_count": 14,
   "id": "1b2c9ffb",
   "metadata": {},
   "outputs": [
    {
     "name": "stdout",
     "output_type": "stream",
     "text": [
      "[2025-04-14 12:01:44,883: INFO: common: yaml file: config\\config.yaml loaded successfully]\n",
      "[2025-04-14 12:01:44,901: INFO: common: yaml file: params.yaml loaded successfully]\n",
      "[2025-04-14 12:01:44,901: INFO: common: created directory at: artifacts]\n",
      "[2025-04-14 12:01:44,918: INFO: common: created directory at: artifacts/model_evaluation]\n",
      "Attempting to load tokenizer from: artifacts/model_trainer/tokenizer.model\n",
      "Path exists: True\n",
      "Path contents: ['special_tokens_map.json', 'spiece.model', 'tokenizer.json', 'tokenizer_config.json']\n",
      "Available columns in dataset: ['id', 'dialogue', 'summary', 'input_ids', 'attention_mask', 'labels']\n"
     ]
    },
    {
     "name": "stderr",
     "output_type": "stream",
     "text": [
      "100%|██████████| 5/5 [09:18<00:00, 111.78s/it]\n"
     ]
    },
    {
     "name": "stdout",
     "output_type": "stream",
     "text": [
      "[2025-04-14 12:11:09,767: INFO: rouge_scorer: Using default tokenizer.]\n"
     ]
    }
   ],
   "source": [
    "try:\n",
    "    config = ConfigurationManager()\n",
    "    model_evaluation_config = config.get_model_evaluation_config()\n",
    "    model_evaluation_config = ModelEvaluation(config = model_evaluation_config)\n",
    "    model_evaluation_config.evaluate()\n",
    "\n",
    "except Exception as e:\n",
    "    raise e"
   ]
  }
 ],
 "metadata": {
  "kernelspec": {
   "display_name": "textSummarizer",
   "language": "python",
   "name": "python3"
  },
  "language_info": {
   "codemirror_mode": {
    "name": "ipython",
    "version": 3
   },
   "file_extension": ".py",
   "mimetype": "text/x-python",
   "name": "python",
   "nbconvert_exporter": "python",
   "pygments_lexer": "ipython3",
   "version": "3.10.16"
  }
 },
 "nbformat": 4,
 "nbformat_minor": 5
}
